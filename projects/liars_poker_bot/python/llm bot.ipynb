{
 "cells": [
  {
   "cell_type": "markdown",
   "metadata": {},
   "source": [
    "Compare performance of 0 shot and 1 shot models?\n",
    "Can use elo as a quality factor -- could be an interesting post\n"
   ]
  },
  {
   "cell_type": "code",
   "execution_count": 20,
   "metadata": {},
   "outputs": [
    {
     "name": "stdout",
     "output_type": "stream",
     "text": [
      "```json\n",
      "[\n",
      "  {\n",
      "    \"State\": \"JcQcJhAh9d|Js\",\n",
      "    \"Action\": \"Pass\"\n",
      "  },\n",
      "  {\n",
      "    \"State\": \"TsQsKsAsAh|Js\",\n",
      "    \"Action\": \"Pickup\"\n",
      "  },\n",
      "  {\n",
      "    \"State\": \"ThQhKhAhAs|Jh\",\n",
      "    \"Action\": \"Pickup\"\n",
      "  },\n",
      "  {\n",
      "    \"State\": \"9cTcQcKcAc|Js\",\n",
      "    \"Action\": \"Pass\"\n",
      "  }\n",
      "]\n",
      "```\n"
     ]
    }
   ],
   "source": [
    "# TODO(developer): Vertex AI SDK - uncomment below & run\n",
    "# pip3 install --upgrade --user google-cloud-aiplatform\n",
    "# gcloud auth application-default login\n",
    "\n",
    "import vertexai\n",
    "from vertexai.generative_models import GenerativeModel, Part\n",
    "\n",
    "# Initialize Vertex AI\n",
    "vertexai.init(project=\"llm-euchre-bot\")\n",
    "\n",
    "\n",
    "def generate_text(games: list[str]) -> str:\n",
    "    prompt = \"\"\"\n",
    "    You are playing euchre. Choose the best Action to take in each State. Return a JSON object with a list containing the State and Action for each State.\n",
    "\n",
    "    State: JcQcJhAh9d|Js\n",
    "    Action: Pass\n",
    "\n",
    "    State: TsQsKsAsAh|Js\n",
    "    Action: Pickup\n",
    "\n",
    "    State: ThQhKhAhAs|Jh\n",
    "    Action:\n",
    "\n",
    "    State: 9cTcQcKcAc|Js\n",
    "    Action:\n",
    "\"\"\"\n",
    "    # Load the model\n",
    "    model = GenerativeModel(\"gemini-1.0-pro\")\n",
    "    # Query the model\n",
    "    response = model.generate_content(prompt)\n",
    "    # print(response)\n",
    "    return response.candidates[0].content.parts[0]._raw_part.text\n",
    "\n",
    "\n",
    "print(generate_text([]))"
   ]
  },
  {
   "cell_type": "code",
   "execution_count": null,
   "metadata": {},
   "outputs": [],
   "source": []
  }
 ],
 "metadata": {
  "kernelspec": {
   "display_name": "base",
   "language": "python",
   "name": "python3"
  },
  "language_info": {
   "codemirror_mode": {
    "name": "ipython",
    "version": 3
   },
   "file_extension": ".py",
   "mimetype": "text/x-python",
   "name": "python",
   "nbconvert_exporter": "python",
   "pygments_lexer": "ipython3",
   "version": "3.11.6"
  }
 },
 "nbformat": 4,
 "nbformat_minor": 2
}
