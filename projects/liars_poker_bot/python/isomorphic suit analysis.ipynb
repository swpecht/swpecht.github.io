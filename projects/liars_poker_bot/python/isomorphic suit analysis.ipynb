{
 "cells": [
  {
   "cell_type": "code",
   "execution_count": 1,
   "metadata": {},
   "outputs": [
    {
     "name": "stdout",
     "output_type": "stream",
     "text": [
      "loaded 8362537 infostates\n",
      "{'infostate': 'ThAhJdQcKsAsPPT|Dis|', 'hand': ['Th', 'Ah', 'Jd', 'Qc', 'Ks'], 'policy': {'Ks': 0.014124309298092845, 'As': 0.014124309298092845, 'Th': 0.014124309298092845, 'Ah': 0.014124309298092845, 'Jd': 0.014124309298092845, 'Qc': 0.9293784535095359}}\n"
     ]
    }
   ],
   "source": [
    "# imports, definitions, and data loading\n",
    "import json\n",
    "import pandas as pd\n",
    "import seaborn as sns\n",
    "import matplotlib.pyplot as plt\n",
    "from sklearn import tree\n",
    "\n",
    "with open(\"../infostates.iso-linear.json\") as f:\n",
    "    raw_data = json.load(f)\n",
    "print(\"loaded {} infostates\".format(len(raw_data)))\n",
    "print(raw_data[0])\n",
    "\n",
    "cards = [\n",
    "    \"Js\",\n",
    "    \"Jc\",\n",
    "    \"As\",\n",
    "    \"Ks\",\n",
    "    \"Qs\",\n",
    "    \"Ts\",\n",
    "    \"9s\",\n",
    "    \"Ac\",\n",
    "    \"Kc\",\n",
    "    \"Qc\",\n",
    "    \"Tc\",\n",
    "    \"9c\",\n",
    "    \"Ah\",\n",
    "    \"Kh\",\n",
    "    \"Qh\",\n",
    "    \"Th\",\n",
    "    \"9h\",\n",
    "    \"Ad\",\n",
    "    \"Kd\",\n",
    "    \"Qd\",\n",
    "    \"Td\",\n",
    "    \"9d\",\n",
    "    \"Jh\",\n",
    "    \"Jd\",\n",
    "]"
   ]
  },
  {
   "cell_type": "code",
   "execution_count": 11,
   "metadata": {},
   "outputs": [
    {
     "name": "stdout",
     "output_type": "stream",
     "text": [
      "148164\n"
     ]
    },
    {
     "ename": "NameError",
     "evalue": "name 'take' is not defined",
     "output_type": "error",
     "traceback": [
      "\u001b[0;31m---------------------------------------------------------------------------\u001b[0m",
      "\u001b[0;31mNameError\u001b[0m                                 Traceback (most recent call last)",
      "Cell \u001b[0;32mIn[11], line 6\u001b[0m\n\u001b[1;32m      3\u001b[0m     \u001b[39mset\u001b[39m[r[\u001b[39m\"\u001b[39m\u001b[39minfostate\u001b[39m\u001b[39m\"\u001b[39m][:\u001b[39m10\u001b[39m]] \u001b[39m=\u001b[39m \u001b[39mTrue\u001b[39;00m\n\u001b[1;32m      5\u001b[0m \u001b[39mprint\u001b[39m(\u001b[39mlen\u001b[39m(\u001b[39mset\u001b[39m))\n\u001b[0;32m----> 6\u001b[0m \u001b[39mprint\u001b[39m(take(\u001b[39m5\u001b[39m, \u001b[39mset\u001b[39m\u001b[39m.\u001b[39mitems()))\n",
      "\u001b[0;31mNameError\u001b[0m: name 'take' is not defined"
     ]
    }
   ],
   "source": [
    "from itertools import islice\n",
    "\n",
    "\n",
    "set = {}\n",
    "for r in raw_data:\n",
    "    set[r[\"infostate\"][:10]] = True\n",
    "\n",
    "print(len(set))\n",
    "print(list(islice(set.items(), 5)))"
   ]
  },
  {
   "cell_type": "code",
   "execution_count": null,
   "metadata": {},
   "outputs": [],
   "source": []
  }
 ],
 "metadata": {
  "kernelspec": {
   "display_name": "base",
   "language": "python",
   "name": "python3"
  },
  "language_info": {
   "codemirror_mode": {
    "name": "ipython",
    "version": 3
   },
   "file_extension": ".py",
   "mimetype": "text/x-python",
   "name": "python",
   "nbconvert_exporter": "python",
   "pygments_lexer": "ipython3",
   "version": "3.11.3"
  },
  "orig_nbformat": 4
 },
 "nbformat": 4,
 "nbformat_minor": 2
}
