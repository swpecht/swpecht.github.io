{
  "cells": [
    {
      "cell_type": "code",
      "source": [
        "%pip install open_spiel\n",
        "%pip install tensorflow"
      ],
      "metadata": {
        "colab": {
          "base_uri": "https://localhost:8080/"
        },
        "id": "syMDq7_p0WMU",
        "outputId": "b836bc30-0cd4-42f9-fab8-c8de0cc3e481"
      },
      "execution_count": 1,
      "outputs": [
        {
          "output_type": "stream",
          "name": "stdout",
          "text": [
            "Collecting open_spiel\n",
            "  Downloading open_spiel-1.3-cp310-cp310-manylinux_2_17_x86_64.manylinux2014_x86_64.whl (5.4 MB)\n",
            "\u001b[2K     \u001b[90m━━━━━━━━━━━━━━━━━━━━━━━━━━━━━━━━━━━━━━━━\u001b[0m \u001b[32m5.4/5.4 MB\u001b[0m \u001b[31m9.1 MB/s\u001b[0m eta \u001b[36m0:00:00\u001b[0m\n",
            "\u001b[?25hRequirement already satisfied: pip>=20.0.2 in /usr/local/lib/python3.10/dist-packages (from open_spiel) (23.1.2)\n",
            "Requirement already satisfied: attrs>=19.3.0 in /usr/local/lib/python3.10/dist-packages (from open_spiel) (23.1.0)\n",
            "Requirement already satisfied: absl-py>=0.10.0 in /usr/local/lib/python3.10/dist-packages (from open_spiel) (1.4.0)\n",
            "Requirement already satisfied: numpy>=1.21.5 in /usr/local/lib/python3.10/dist-packages (from open_spiel) (1.23.5)\n",
            "Requirement already satisfied: scipy>=1.10.1 in /usr/local/lib/python3.10/dist-packages (from open_spiel) (1.11.3)\n",
            "Installing collected packages: open_spiel\n",
            "Successfully installed open_spiel-1.3\n"
          ]
        }
      ]
    },
    {
      "cell_type": "code",
      "source": [],
      "metadata": {
        "id": "lYrGVUoP252V"
      },
      "execution_count": 1,
      "outputs": []
    },
    {
      "cell_type": "code",
      "execution_count": null,
      "metadata": {
        "id": "p6WFB8xgz999"
      },
      "outputs": [],
      "source": [
        "import tensorflow.compat.v1 as tf\n",
        "\n",
        "from open_spiel.python import policy\n",
        "from open_spiel.python.algorithms import deep_cfr\n",
        "from open_spiel.python.algorithms import exploitability\n",
        "import pyspiel\n",
        "# import deep_cfr_tf2\n",
        "\n",
        "# Get this working for kuhn_poker\n",
        "# [*] Add way to track the progress of training\n",
        "# [ ] Add card encoding to network\n",
        "# [ ] Tune network size\n",
        "\n",
        "game = pyspiel.load_game(\"kuhn_poker\")\n",
        "with tf.Session() as sess:\n",
        "  deep_cfr_solver = deep_cfr.DeepCFRSolver(\n",
        "      sess,\n",
        "      game,\n",
        "      policy_network_layers=(8, 8, 4),\n",
        "      advantage_network_layers=(4, 4, 2),\n",
        "      num_iterations=100,\n",
        "      num_traversals=1000,\n",
        "      learning_rate=1e-3,\n",
        "      batch_size_advantage=None,\n",
        "      batch_size_strategy=None,\n",
        "      memory_capacity=1e7)\n",
        "  sess.run(tf.global_variables_initializer())\n",
        "  deep_cfr_solver.solve()\n",
        "\n",
        "  conv = exploitability.nash_conv(\n",
        "      game,\n",
        "      policy.tabular_policy_from_callable(game, deep_cfr_solver.action_probabilities),\n",
        "  )\n",
        "  print(\"Deep CFR NashConv: {}\".format(conv))\n"
      ]
    },
    {
      "cell_type": "code",
      "source": [],
      "metadata": {
        "id": "kboJGUg60EGc"
      },
      "execution_count": null,
      "outputs": []
    }
  ],
  "metadata": {
    "language_info": {
      "name": "python"
    },
    "colab": {
      "provenance": []
    },
    "kernelspec": {
      "name": "python3",
      "display_name": "Python 3"
    },
    "accelerator": "TPU"
  },
  "nbformat": 4,
  "nbformat_minor": 0
}